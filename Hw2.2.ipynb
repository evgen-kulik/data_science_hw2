{
 "cells": [
  {
   "cell_type": "markdown",
   "id": "1f484e40-0a0a-48ea-b8b5-d1414b933425",
   "metadata": {},
   "source": [
    "# Домашнє завдання № 2"
   ]
  },
  {
   "cell_type": "markdown",
   "id": "a06448c4-5c90-4ec9-85fc-14e5a4c2f140",
   "metadata": {},
   "source": [
    "## Частина друга: Аналіз файлів"
   ]
  },
  {
   "cell_type": "code",
   "execution_count": 233,
   "id": "2fd243b6-0c87-4412-9f4b-3eb76a5321f9",
   "metadata": {},
   "outputs": [],
   "source": [
    "import matplotlib.pyplot as plt\n",
    "import pandas as pd"
   ]
  },
  {
   "cell_type": "markdown",
   "id": "50e168c9-4bbb-407d-9309-9e2d01cff201",
   "metadata": {},
   "source": [
    "#### 2.1. Прочитайте файл 2017_jun_final.csv за допомогою методу read_csv"
   ]
  },
  {
   "cell_type": "code",
   "execution_count": 234,
   "id": "0c7ab659-e6f0-4502-8ce6-7398430d0c4e",
   "metadata": {},
   "outputs": [],
   "source": [
    "df = pd.read_csv(\"2017_jun_final.csv\")"
   ]
  },
  {
   "cell_type": "markdown",
   "id": "49671deb-e418-4360-bbea-0ccda6c04e13",
   "metadata": {},
   "source": [
    "#### 2.2. Прочитайте отриману таблицю, використовуючи метод head"
   ]
  },
  {
   "cell_type": "code",
   "execution_count": 235,
   "id": "4591ddf5-5dda-4d4b-b59f-44cd66a280eb",
   "metadata": {
    "scrolled": true
   },
   "outputs": [
    {
     "name": "stdout",
     "output_type": "stream",
     "text": [
      "   N                 Должность Язык.программирования Специализация  \\\n",
      "0  1        Junior QA engineer                   NaN     Manual QA   \n",
      "1  2        Junior QA engineer                   NaN     Manual QA   \n",
      "2  3         Software Engineer               C#/.NET           NaN   \n",
      "3  4         Software Engineer            JavaScript           NaN   \n",
      "4  5  Senior Software Engineer            JavaScript           NaN   \n",
      "\n",
      "  Общий.опыт.работы Опыт.работы.на.текущем.месте  Зарплата.в.месяц  \\\n",
      "0               0.5                          0.5               400   \n",
      "1  меньше 3 месяцев             меньше 3 месяцев               430   \n",
      "2                 4                            1              2500   \n",
      "3                 5                            4              2000   \n",
      "4    10 и более лет                          0.5              4500   \n",
      "\n",
      "   Изменение.зарплаты.за.12.месяцев    Город     Размер.компании  ...  \\\n",
      "0                                 0  Харьков       до 10 человек  ...   \n",
      "1                               130  Харьков  свыше 1000 человек  ...   \n",
      "2                               800     Киев     до 1000 человек  ...   \n",
      "3                               400   Одесса      до 200 человек  ...   \n",
      "4                               500   Другой       до 10 человек  ...   \n",
      "\n",
      "  Еще.студент Уровень.английского                    Предметная.область  \\\n",
      "0        True       ниже среднего                         iOS,eCommerce   \n",
      "1        True       выше среднего                        Веб-разработка   \n",
      "2       False             средний  Веб-разработка,Корпоративные системы   \n",
      "3       False       ниже среднего   Desktop Applications,Веб-разработка   \n",
      "4       False             средний   Desktop Applications,Веб-разработка   \n",
      "\n",
      "       Дата.заполнения                                         User.Agent  \\\n",
      "0  12/06/2017 12:38:08  Mozilla/5.0 (Windows NT 10.0; Win64; x64) Appl...   \n",
      "1  12/06/2017 12:42:51  Mozilla/5.0 (iPad; CPU OS 10_2_1 like Mac OS X...   \n",
      "2  12/06/2017 13:02:47  Mozilla/5.0 (Windows NT 10.0; Win64; x64) Appl...   \n",
      "3  12/06/2017 13:03:01  Mozilla/5.0 (Windows NT 6.1; Win64; x64) Apple...   \n",
      "4  12/06/2017 13:03:47  Mozilla/5.0 (iPhone; CPU iPhone OS 10_3_2 like...   \n",
      "\n",
      "    exp current_job_exp salary Валюта  cls  \n",
      "0   0.5             0.5    400    NaN   QA  \n",
      "1   0.0             0.0    430    NaN   QA  \n",
      "2   4.0             1.0   2500    NaN  DEV  \n",
      "3   5.0             4.0   2000    NaN  DEV  \n",
      "4  10.0             0.5   4500    NaN  DEV  \n",
      "\n",
      "[5 rows x 25 columns]\n"
     ]
    }
   ],
   "source": [
    "print(df.head())"
   ]
  },
  {
   "cell_type": "markdown",
   "id": "834225e0-dacb-4c3e-b5d2-b6978bfef2e1",
   "metadata": {},
   "source": [
    "#### 1.3. Визначте розмір таблиці за допомогою методу shape"
   ]
  },
  {
   "cell_type": "code",
   "execution_count": 236,
   "id": "020dac80-ceeb-40ce-925c-ddf60ca7109e",
   "metadata": {},
   "outputs": [
    {
     "name": "stdout",
     "output_type": "stream",
     "text": [
      "(8704, 25)\n"
     ]
    }
   ],
   "source": [
    "print(df.shape)"
   ]
  },
  {
   "cell_type": "markdown",
   "id": "e129a76b-cd9f-491e-87da-b269c4630127",
   "metadata": {},
   "source": [
    "#### 1.4. Визначте типи всіх стовпців за допомогою dataframe.dtypes"
   ]
  },
  {
   "cell_type": "code",
   "execution_count": 237,
   "id": "e27cf728-9547-4ce2-b053-569f9c87242f",
   "metadata": {
    "scrolled": true
   },
   "outputs": [
    {
     "name": "stdout",
     "output_type": "stream",
     "text": [
      "N                                     int64\n",
      "Должность                            object\n",
      "Язык.программирования                object\n",
      "Специализация                        object\n",
      "Общий.опыт.работы                    object\n",
      "Опыт.работы.на.текущем.месте         object\n",
      "Зарплата.в.месяц                      int64\n",
      "Изменение.зарплаты.за.12.месяцев      int64\n",
      "Город                                object\n",
      "Размер.компании                      object\n",
      "Тип.компании                         object\n",
      "Пол                                  object\n",
      "Возраст                               int64\n",
      "Образование                          object\n",
      "Университет                          object\n",
      "Еще.студент                            bool\n",
      "Уровень.английского                  object\n",
      "Предметная.область                   object\n",
      "Дата.заполнения                      object\n",
      "User.Agent                           object\n",
      "exp                                 float64\n",
      "current_job_exp                     float64\n",
      "salary                                int64\n",
      "Валюта                               object\n",
      "cls                                  object\n",
      "dtype: object\n"
     ]
    }
   ],
   "source": [
    "print(df.dtypes)"
   ]
  },
  {
   "cell_type": "markdown",
   "id": "2c88d1a3-2bd6-4142-9670-e4a86e88a12d",
   "metadata": {},
   "source": [
    "#### 1.5. Порахуйте, яка частка пропусків міститься в кожній колонці (використовуйте методи isnull та sum)"
   ]
  },
  {
   "cell_type": "code",
   "execution_count": 238,
   "id": "30c713b6-d85a-4d0d-90c2-e74db7691858",
   "metadata": {
    "scrolled": true
   },
   "outputs": [
    {
     "name": "stdout",
     "output_type": "stream",
     "text": [
      "          N  Должность  Язык.программирования  Специализация  \\\n",
      "0     False      False                   True          False   \n",
      "1     False      False                   True          False   \n",
      "2     False      False                  False           True   \n",
      "3     False      False                  False           True   \n",
      "4     False      False                  False           True   \n",
      "...     ...        ...                    ...            ...   \n",
      "8699  False      False                   True          False   \n",
      "8700  False      False                   True           True   \n",
      "8701  False      False                  False           True   \n",
      "8702  False      False                   True           True   \n",
      "8703  False      False                  False           True   \n",
      "\n",
      "      Общий.опыт.работы  Опыт.работы.на.текущем.месте  Зарплата.в.месяц  \\\n",
      "0                 False                         False             False   \n",
      "1                 False                         False             False   \n",
      "2                 False                         False             False   \n",
      "3                 False                         False             False   \n",
      "4                 False                         False             False   \n",
      "...                 ...                           ...               ...   \n",
      "8699              False                         False             False   \n",
      "8700              False                         False             False   \n",
      "8701              False                         False             False   \n",
      "8702              False                         False             False   \n",
      "8703              False                         False             False   \n",
      "\n",
      "      Изменение.зарплаты.за.12.месяцев  Город  Размер.компании  ...  \\\n",
      "0                                False  False            False  ...   \n",
      "1                                False  False            False  ...   \n",
      "2                                False  False            False  ...   \n",
      "3                                False  False            False  ...   \n",
      "4                                False  False            False  ...   \n",
      "...                                ...    ...              ...  ...   \n",
      "8699                             False  False            False  ...   \n",
      "8700                             False  False            False  ...   \n",
      "8701                             False  False            False  ...   \n",
      "8702                             False  False            False  ...   \n",
      "8703                             False  False            False  ...   \n",
      "\n",
      "      Еще.студент  Уровень.английского  Предметная.область  Дата.заполнения  \\\n",
      "0           False                False               False            False   \n",
      "1           False                False               False            False   \n",
      "2           False                False               False            False   \n",
      "3           False                False               False            False   \n",
      "4           False                False               False            False   \n",
      "...           ...                  ...                 ...              ...   \n",
      "8699        False                False               False            False   \n",
      "8700        False                False               False            False   \n",
      "8701        False                False               False            False   \n",
      "8702        False                False               False            False   \n",
      "8703        False                False               False            False   \n",
      "\n",
      "      User.Agent    exp  current_job_exp  salary  Валюта    cls  \n",
      "0          False  False            False   False    True  False  \n",
      "1          False  False            False   False    True  False  \n",
      "2          False  False            False   False    True  False  \n",
      "3          False  False            False   False    True  False  \n",
      "4          False  False            False   False    True  False  \n",
      "...          ...    ...              ...     ...     ...    ...  \n",
      "8699       False  False            False   False    True  False  \n",
      "8700       False  False            False   False    True   True  \n",
      "8701       False  False            False   False    True  False  \n",
      "8702       False  False            False   False    True  False  \n",
      "8703       False  False            False   False    True  False  \n",
      "\n",
      "[8704 rows x 25 columns]\n"
     ]
    }
   ],
   "source": [
    "# проаналізуємо весь df на предмет відсутніх даних в комірках\n",
    "nan_value = df.isnull()\n",
    "print(nan_value)"
   ]
  },
  {
   "cell_type": "code",
   "execution_count": 239,
   "id": "3d825a46-d4e8-4417-ad21-3d61844c81b4",
   "metadata": {},
   "outputs": [
    {
     "name": "stdout",
     "output_type": "stream",
     "text": [
      "N                                      0\n",
      "Должность                              0\n",
      "Язык.программирования               3850\n",
      "Специализация                       7219\n",
      "Общий.опыт.работы                      0\n",
      "Опыт.работы.на.текущем.месте           0\n",
      "Зарплата.в.месяц                       0\n",
      "Изменение.зарплаты.за.12.месяцев       0\n",
      "Город                                  0\n",
      "Размер.компании                        0\n",
      "Тип.компании                           0\n",
      "Пол                                    0\n",
      "Возраст                                0\n",
      "Образование                            0\n",
      "Университет                          358\n",
      "Еще.студент                            0\n",
      "Уровень.английского                    0\n",
      "Предметная.область                   223\n",
      "Дата.заполнения                        0\n",
      "User.Agent                             0\n",
      "exp                                    0\n",
      "current_job_exp                        0\n",
      "salary                                 0\n",
      "Валюта                              8694\n",
      "cls                                 1574\n",
      "dtype: int64\n"
     ]
    }
   ],
   "source": [
    "# підрахуємо кількість порожніх комірок по всьому df\n",
    "count_nan = nan_value.sum()\n",
    "print(count_nan)"
   ]
  },
  {
   "cell_type": "markdown",
   "id": "56dcf3c6-006a-48fa-af13-53c0e8b09b14",
   "metadata": {},
   "source": [
    "#### 1.6. Видаліть усі стовпці з пропусками, крім стовпця \"Мова програмування\""
   ]
  },
  {
   "cell_type": "code",
   "execution_count": 240,
   "id": "3ba775a8-73b7-4136-8d80-e23c93c500aa",
   "metadata": {
    "scrolled": true
   },
   "outputs": [
    {
     "name": "stdout",
     "output_type": "stream",
     "text": [
      "         N                 Должность Язык.программирования Общий.опыт.работы  \\\n",
      "0        1        Junior QA engineer                   NaN               0.5   \n",
      "1        2        Junior QA engineer                   NaN  меньше 3 месяцев   \n",
      "2        3         Software Engineer               C#/.NET                 4   \n",
      "3        4         Software Engineer            JavaScript                 5   \n",
      "4        5  Senior Software Engineer            JavaScript    10 и более лет   \n",
      "...    ...                       ...                   ...               ...   \n",
      "8699  8700               QA engineer                   NaN                 1   \n",
      "8700  8701                 Marketing                   NaN               0.5   \n",
      "8701  8702  Junior Software Engineer            Ruby/Rails                 1   \n",
      "8702  8703                 Team lead                   NaN                 6   \n",
      "8703  8704  Senior Software Engineer                  Java                 7   \n",
      "\n",
      "     Опыт.работы.на.текущем.месте  Зарплата.в.месяц  \\\n",
      "0                             0.5               400   \n",
      "1                меньше 3 месяцев               430   \n",
      "2                               1              2500   \n",
      "3                               4              2000   \n",
      "4                             0.5              4500   \n",
      "...                           ...               ...   \n",
      "8699             меньше 3 месяцев               700   \n",
      "8700                          0.5               400   \n",
      "8701                          0.5               800   \n",
      "8702                            4              2600   \n",
      "8703                            2              5000   \n",
      "\n",
      "      Изменение.зарплаты.за.12.месяцев    Город     Размер.компании  \\\n",
      "0                                    0  Харьков       до 10 человек   \n",
      "1                                  130  Харьков  свыше 1000 человек   \n",
      "2                                  800     Киев     до 1000 человек   \n",
      "3                                  400   Одесса      до 200 человек   \n",
      "4                                  500   Другой       до 10 человек   \n",
      "...                                ...      ...                 ...   \n",
      "8699                               700   Одесса       до 50 человек   \n",
      "8700                               120     Киев       до 50 человек   \n",
      "8701                               500    Львов       до 10 человек   \n",
      "8702                                 0    Днепр  свыше 1000 человек   \n",
      "8703                               800   Одесса     до 1000 человек   \n",
      "\n",
      "         Тип.компании      Пол  Возраст           Образование  Еще.студент  \\\n",
      "0      Аутсорсинговая  женский       20  Незаконченное высшее         True   \n",
      "1      Аутсорсинговая  женский       21  Незаконченное высшее         True   \n",
      "2      Аутсорсинговая  мужской       26                Высшее        False   \n",
      "3         Продуктовая  мужской       30               Среднее        False   \n",
      "4         Продуктовая  мужской       30    Техникум / Колледж        False   \n",
      "...               ...      ...      ...                   ...          ...   \n",
      "8699   Аутсорсинговая  мужской       23                Высшее        False   \n",
      "8700      Продуктовая  женский       22                Высшее        False   \n",
      "8701  Аутстаффинговая  мужской       30  Незаконченное высшее        False   \n",
      "8702   Аутсорсинговая  мужской       34                Высшее        False   \n",
      "8703      Продуктовая  мужской       28                Высшее        False   \n",
      "\n",
      "     Уровень.английского      Дата.заполнения  \\\n",
      "0          ниже среднего  12/06/2017 12:38:08   \n",
      "1          выше среднего  12/06/2017 12:42:51   \n",
      "2                средний  12/06/2017 13:02:47   \n",
      "3          ниже среднего  12/06/2017 13:03:01   \n",
      "4                средний  12/06/2017 13:03:47   \n",
      "...                  ...                  ...   \n",
      "8699             средний  12/07/2017 15:45:24   \n",
      "8700       ниже среднего  12/07/2017 17:00:06   \n",
      "8701       выше среднего  12/07/2017 17:32:26   \n",
      "8702         продвинутый  12/07/2017 18:14:59   \n",
      "8703       выше среднего  12/07/2017 21:28:57   \n",
      "\n",
      "                                             User.Agent   exp  \\\n",
      "0     Mozilla/5.0 (Windows NT 10.0; Win64; x64) Appl...   0.5   \n",
      "1     Mozilla/5.0 (iPad; CPU OS 10_2_1 like Mac OS X...   0.0   \n",
      "2     Mozilla/5.0 (Windows NT 10.0; Win64; x64) Appl...   4.0   \n",
      "3     Mozilla/5.0 (Windows NT 6.1; Win64; x64) Apple...   5.0   \n",
      "4     Mozilla/5.0 (iPhone; CPU iPhone OS 10_3_2 like...  10.0   \n",
      "...                                                 ...   ...   \n",
      "8699  Mozilla/5.0 (X11; Ubuntu; Linux x86_64; rv:54....   1.0   \n",
      "8700  Mozilla/5.0 (Windows NT 10.0; Win64; x64) Appl...   0.5   \n",
      "8701  Mozilla/5.0 (X11; Linux x86_64) AppleWebKit/53...   1.0   \n",
      "8702  Mozilla/5.0 (Windows NT 6.1) AppleWebKit/537.3...   6.0   \n",
      "8703  Mozilla/5.0 (iPad; CPU OS 10_3_2 like Mac OS X...   7.0   \n",
      "\n",
      "      current_job_exp  salary  \n",
      "0                 0.5     400  \n",
      "1                 0.0     430  \n",
      "2                 1.0    2500  \n",
      "3                 4.0    2000  \n",
      "4                 0.5    4500  \n",
      "...               ...     ...  \n",
      "8699              0.0     700  \n",
      "8700              0.5     400  \n",
      "8701              0.5     800  \n",
      "8702              4.0    2600  \n",
      "8703              2.0    5000  \n",
      "\n",
      "[8704 rows x 20 columns]\n"
     ]
    }
   ],
   "source": [
    "df.drop(df[['Специализация', 'Университет', 'Предметная.область', 'Валюта', 'cls']], axis=1, inplace=True)\n",
    "# важливо: строка вище повертає None, тому не можна перепризначати df, тобто df = df.drop... \n",
    "print(df)"
   ]
  },
  {
   "cell_type": "markdown",
   "id": "7c7b95a3-92c5-4e52-b0e8-7d0b541c7d49",
   "metadata": {},
   "source": [
    "#### 1.7. Знову порахуйте, яка частка пропусків міститься в кожній колонці і переконайтеся, що залишився тільки стовпець \"Мова.програмування\""
   ]
  },
  {
   "cell_type": "code",
   "execution_count": 241,
   "id": "7d55de19-32aa-40c0-9d52-5a8a404aa039",
   "metadata": {},
   "outputs": [
    {
     "name": "stdout",
     "output_type": "stream",
     "text": [
      "N                                      0\n",
      "Должность                              0\n",
      "Язык.программирования               3850\n",
      "Общий.опыт.работы                      0\n",
      "Опыт.работы.на.текущем.месте           0\n",
      "Зарплата.в.месяц                       0\n",
      "Изменение.зарплаты.за.12.месяцев       0\n",
      "Город                                  0\n",
      "Размер.компании                        0\n",
      "Тип.компании                           0\n",
      "Пол                                    0\n",
      "Возраст                                0\n",
      "Образование                            0\n",
      "Еще.студент                            0\n",
      "Уровень.английского                    0\n",
      "Дата.заполнения                        0\n",
      "User.Agent                             0\n",
      "exp                                    0\n",
      "current_job_exp                        0\n",
      "salary                                 0\n",
      "dtype: int64\n"
     ]
    }
   ],
   "source": [
    "# проаналізуємо весь df на предмет відсутніх даних в комірках\n",
    "nan_value = df.isnull()\n",
    "# підрахуємо кількість порожніх комірок по всьому df\n",
    "count_nan = nan_value.sum()\n",
    "print(count_nan)"
   ]
  },
  {
   "cell_type": "markdown",
   "id": "24169f3c-2f37-491d-88eb-c8676d28545e",
   "metadata": {},
   "source": [
    "#### 1.9. Видаліть усі NaN рядки у вихідній таблиці за допомогою методу dropna"
   ]
  },
  {
   "cell_type": "code",
   "execution_count": 242,
   "id": "2cc12905-8478-4ba0-b263-743c3cc9482f",
   "metadata": {
    "scrolled": true
   },
   "outputs": [
    {
     "name": "stdout",
     "output_type": "stream",
     "text": [
      "         N                 Должность Язык.программирования Общий.опыт.работы  \\\n",
      "2        3         Software Engineer               C#/.NET                 4   \n",
      "3        4         Software Engineer            JavaScript                 5   \n",
      "4        5  Senior Software Engineer            JavaScript    10 и более лет   \n",
      "6        7  Junior Software Engineer               C#/.NET                 1   \n",
      "7        8  Senior Software Engineer                   C++                 6   \n",
      "...    ...                       ...                   ...               ...   \n",
      "8692  8693         Software Engineer                  Java                 5   \n",
      "8694  8695  Junior Software Engineer               C#/.NET                 1   \n",
      "8695  8696         Software Engineer                Python                 1   \n",
      "8701  8702  Junior Software Engineer            Ruby/Rails                 1   \n",
      "8703  8704  Senior Software Engineer                  Java                 7   \n",
      "\n",
      "     Опыт.работы.на.текущем.месте  Зарплата.в.месяц  \\\n",
      "2                               1              2500   \n",
      "3                               4              2000   \n",
      "4                             0.5              4500   \n",
      "6                меньше 3 месяцев               600   \n",
      "7                               1              3300   \n",
      "...                           ...               ...   \n",
      "8692                            1              3500   \n",
      "8694                            1               550   \n",
      "8695                          0.5              1500   \n",
      "8701                          0.5               800   \n",
      "8703                            2              5000   \n",
      "\n",
      "      Изменение.зарплаты.за.12.месяцев        Город  Размер.компании  \\\n",
      "2                                  800         Киев  до 1000 человек   \n",
      "3                                  400       Одесса   до 200 человек   \n",
      "4                                  500       Другой    до 10 человек   \n",
      "6                                  100  Хмельницкий    до 50 человек   \n",
      "7                                  500         Киев    до 10 человек   \n",
      "...                                ...          ...              ...   \n",
      "8692                               650     Удаленно   до 200 человек   \n",
      "8694                               550      Харьков   до 200 человек   \n",
      "8695                              1000         Киев    до 10 человек   \n",
      "8701                               500        Львов    до 10 человек   \n",
      "8703                               800       Одесса  до 1000 человек   \n",
      "\n",
      "         Тип.компании      Пол  Возраст           Образование  Еще.студент  \\\n",
      "2      Аутсорсинговая  мужской       26                Высшее        False   \n",
      "3         Продуктовая  мужской       30               Среднее        False   \n",
      "4         Продуктовая  мужской       30    Техникум / Колледж        False   \n",
      "6      Аутсорсинговая  мужской       23                Высшее        False   \n",
      "7         Продуктовая  мужской       28                Высшее        False   \n",
      "...               ...      ...      ...                   ...          ...   \n",
      "8692   Аутсорсинговая  женский       28                Высшее        False   \n",
      "8694   Аутсорсинговая  мужской       23                Высшее        False   \n",
      "8695          Стартап  мужской       29                Высшее        False   \n",
      "8701  Аутстаффинговая  мужской       30  Незаконченное высшее        False   \n",
      "8703      Продуктовая  мужской       28                Высшее        False   \n",
      "\n",
      "     Уровень.английского      Дата.заполнения  \\\n",
      "2                средний  12/06/2017 13:02:47   \n",
      "3          ниже среднего  12/06/2017 13:03:01   \n",
      "4                средний  12/06/2017 13:03:47   \n",
      "6          ниже среднего  12/06/2017 13:04:26   \n",
      "7          выше среднего  12/06/2017 13:04:27   \n",
      "...                  ...                  ...   \n",
      "8692             средний  12/07/2017 13:26:49   \n",
      "8694       ниже среднего  12/07/2017 14:14:33   \n",
      "8695             средний  12/07/2017 14:39:21   \n",
      "8701       выше среднего  12/07/2017 17:32:26   \n",
      "8703       выше среднего  12/07/2017 21:28:57   \n",
      "\n",
      "                                             User.Agent   exp  \\\n",
      "2     Mozilla/5.0 (Windows NT 10.0; Win64; x64) Appl...   4.0   \n",
      "3     Mozilla/5.0 (Windows NT 6.1; Win64; x64) Apple...   5.0   \n",
      "4     Mozilla/5.0 (iPhone; CPU iPhone OS 10_3_2 like...  10.0   \n",
      "6     Mozilla/5.0 (Windows NT 10.0; Win64; x64) Appl...   1.0   \n",
      "7     Mozilla/5.0 (X11; Ubuntu; Linux x86_64; rv:53....   6.0   \n",
      "...                                                 ...   ...   \n",
      "8692  Mozilla/5.0 (Macintosh; Intel Mac OS X 10_12_5...   5.0   \n",
      "8694  Mozilla/5.0 (Windows NT 10.0; WOW64; rv:54.0) ...   1.0   \n",
      "8695  Mozilla/5.0 (X11; Linux x86_64) AppleWebKit/53...   1.0   \n",
      "8701  Mozilla/5.0 (X11; Linux x86_64) AppleWebKit/53...   1.0   \n",
      "8703  Mozilla/5.0 (iPad; CPU OS 10_3_2 like Mac OS X...   7.0   \n",
      "\n",
      "      current_job_exp  salary  \n",
      "2                 1.0    2500  \n",
      "3                 4.0    2000  \n",
      "4                 0.5    4500  \n",
      "6                 0.0     600  \n",
      "7                 1.0    3300  \n",
      "...               ...     ...  \n",
      "8692              1.0    3500  \n",
      "8694              1.0     550  \n",
      "8695              0.5    1500  \n",
      "8701              0.5     800  \n",
      "8703              2.0    5000  \n",
      "\n",
      "[4854 rows x 20 columns]\n"
     ]
    }
   ],
   "source": [
    "df = df.dropna()\n",
    "print(df)"
   ]
  },
  {
   "cell_type": "markdown",
   "id": "dbe78172-7649-4ea5-9485-e7e5b749b5f1",
   "metadata": {},
   "source": [
    "#### 1.10. Визначте новий розмір таблиці за допомогою методу shape"
   ]
  },
  {
   "cell_type": "code",
   "execution_count": 243,
   "id": "039e9637-ca27-4872-bba7-44f47d2f8221",
   "metadata": {},
   "outputs": [
    {
     "name": "stdout",
     "output_type": "stream",
     "text": [
      "(4854, 20)\n"
     ]
    }
   ],
   "source": [
    "print(df.shape)"
   ]
  },
  {
   "cell_type": "markdown",
   "id": "6937e067-1338-4143-b1c4-93430c305fb5",
   "metadata": {},
   "source": [
    "#### 1.11. Створіть нову таблицю python_data, в якій будуть тільки рядки зі спеціалістами, які вказали мову програмування Python"
   ]
  },
  {
   "cell_type": "code",
   "execution_count": 244,
   "id": "54b23ef2-1ea2-4445-a5a7-b44378e4ece8",
   "metadata": {
    "scrolled": true
   },
   "outputs": [
    {
     "name": "stdout",
     "output_type": "stream",
     "text": [
      "                     Должность Язык.программирования\n",
      "2            Software Engineer               C#/.NET\n",
      "3            Software Engineer            JavaScript\n",
      "4     Senior Software Engineer            JavaScript\n",
      "6     Junior Software Engineer               C#/.NET\n",
      "7     Senior Software Engineer                   C++\n",
      "...                        ...                   ...\n",
      "8692         Software Engineer                  Java\n",
      "8694  Junior Software Engineer               C#/.NET\n",
      "8695         Software Engineer                Python\n",
      "8701  Junior Software Engineer            Ruby/Rails\n",
      "8703  Senior Software Engineer                  Java\n",
      "\n",
      "[4854 rows x 2 columns]\n"
     ]
    }
   ],
   "source": [
    "python_data = df.loc[df['Язык.программирования'] != \"\"][['Должность', 'Язык.программирования']]\n",
    "print(python_data)"
   ]
  },
  {
   "cell_type": "markdown",
   "id": "cab20d8a-1384-4095-a430-ff43f26d7655",
   "metadata": {},
   "source": [
    "#### 1.12. Визначте розмір таблиці python_data за допомогою методу shape"
   ]
  },
  {
   "cell_type": "code",
   "execution_count": 245,
   "id": "31012d10-2ffb-4818-b12d-d6798f6179d7",
   "metadata": {},
   "outputs": [
    {
     "name": "stdout",
     "output_type": "stream",
     "text": [
      "(4854, 20)\n"
     ]
    }
   ],
   "source": [
    "print(df.shape)"
   ]
  },
  {
   "cell_type": "markdown",
   "id": "445e7345-946c-4e04-acfd-36ded0752c3d",
   "metadata": {},
   "source": [
    "#### 1.13. Використовуючи метод groupby, виконайте групування за стовпчиком \"Посада\""
   ]
  },
  {
   "cell_type": "code",
   "execution_count": 246,
   "id": "4cbeb026-df9f-4ee2-aaa0-0cd391228c21",
   "metadata": {},
   "outputs": [
    {
     "name": "stdout",
     "output_type": "stream",
     "text": [
      "Должность\n",
      "Data Scientist / Data Analyst    [N, Должность, Язык.программирования, Общий.оп...\n",
      "DevOps                           [N, Должность, Язык.программирования, Общий.оп...\n",
      "ERP / CRM                        [N, Должность, Язык.программирования, Общий.оп...\n",
      "HTML coder                       [N, Должность, Язык.программирования, Общий.оп...\n",
      "Junior Software Engineer         [N, Должность, Язык.программирования, Общий.оп...\n",
      "Product Manager                  [N, Должность, Язык.программирования, Общий.оп...\n",
      "Senior Software Engineer         [N, Должность, Язык.программирования, Общий.оп...\n",
      "Software Engineer                [N, Должность, Язык.программирования, Общий.оп...\n",
      "System Architect                 [N, Должность, Язык.программирования, Общий.оп...\n",
      "Team lead                        [N, Должность, Язык.программирования, Общий.оп...\n",
      "Technical Lead                   [N, Должность, Язык.программирования, Общий.оп...\n",
      "dtype: object\n"
     ]
    }
   ],
   "source": [
    "print(df.groupby('Должность').apply(list))"
   ]
  },
  {
   "cell_type": "markdown",
   "id": "9342ad91-5110-4b58-be30-0273fb114d43",
   "metadata": {},
   "source": [
    "#### 1.14. Створіть новий DataFrame, де для згрупованих даних за стовпчиком \"Посада\", виконайте агрегацію даних за допомогою методу agg і знайдіть мінімальне та максимальне значення у стовпчику \"Зарплата.в.місяць\""
   ]
  },
  {
   "cell_type": "code",
   "execution_count": 247,
   "id": "28b0c182-db7b-46c9-8269-14e952019a17",
   "metadata": {},
   "outputs": [
    {
     "name": "stdout",
     "output_type": "stream",
     "text": [
      "                                min    max\n",
      "Должность                                 \n",
      "Data Scientist / Data Analyst  2700   2700\n",
      "DevOps                         7000   7000\n",
      "ERP / CRM                      2000   2000\n",
      "HTML coder                      385    600\n",
      "Junior Software Engineer         75   2600\n",
      "Product Manager                3000   3000\n",
      "Senior Software Engineer        350   9200\n",
      "Software Engineer               100   7000\n",
      "System Architect                400  10000\n",
      "Team lead                      2500   4000\n",
      "Technical Lead                  500  18000\n"
     ]
    }
   ],
   "source": [
    "df_new = df.groupby('Должность')['Зарплата.в.месяц'].agg(['min', 'max'])\n",
    "print(df_new)"
   ]
  },
  {
   "cell_type": "markdown",
   "id": "33098598-a7ca-4ed7-a99a-e6b246b9585e",
   "metadata": {},
   "source": [
    "#### 1.15. Створіть функцію fill_avg_salary, яка повертатиме середнє значення заробітної плати на місяць. Використовуйте її для методу apply та створіть новий стовпчик \"avg\""
   ]
  },
  {
   "cell_type": "code",
   "execution_count": 275,
   "id": "461c6ed6-f762-4865-af0b-51885b9b6fd2",
   "metadata": {},
   "outputs": [],
   "source": [
    "# функцію побудовано за даним принципом:\n",
    "# fill_avg_salary__ = df.groupby('Должность')['Зарплата.в.месяц'].agg(['mean'])\n",
    "# print(fill_avg_salary__)\n",
    "# print(fill_avg_salary__.at['DevOps', 'mean'])"
   ]
  },
  {
   "cell_type": "code",
   "execution_count": 280,
   "id": "6b7296c1-26cc-48c9-9cd3-d53bb41400e2",
   "metadata": {
    "scrolled": true
   },
   "outputs": [
    {
     "name": "stdout",
     "output_type": "stream",
     "text": [
      "                     Должность  Зарплата.в.месяц          avg\n",
      "2            Software Engineer              2500  1678.630074\n",
      "3            Software Engineer              2000  1678.630074\n",
      "4     Senior Software Engineer              4500  3243.200926\n",
      "6     Junior Software Engineer               600   605.658594\n",
      "7     Senior Software Engineer              3300  3243.200926\n",
      "...                        ...               ...          ...\n",
      "8692         Software Engineer              3500  1678.630074\n",
      "8694  Junior Software Engineer               550   605.658594\n",
      "8695         Software Engineer              1500  1678.630074\n",
      "8701  Junior Software Engineer               800   605.658594\n",
      "8703  Senior Software Engineer              5000  3243.200926\n",
      "\n",
      "[4854 rows x 3 columns]\n"
     ]
    }
   ],
   "source": [
    "# додамо порожній стовпчик \"avg\"\n",
    "df['avg'] = \"\"\n",
    "\n",
    "# функція для повертання середніх значень \n",
    "def fill_avg_salary(row):\n",
    "    salary = df.groupby('Должность')['Зарплата.в.месяц'].agg(['mean']) \n",
    "    return salary.at[row, 'mean']\n",
    "\n",
    "# заповнимо стовпчик \"avg\" середніми значеннями зарплат\n",
    "df['avg'] = df['Должность'].apply(fill_avg_salary)\n",
    "print(df[['Должность', 'Зарплата.в.месяц', 'avg']])"
   ]
  },
  {
   "cell_type": "markdown",
   "id": "ba561209-215a-4907-a4b7-94f7047c4874",
   "metadata": {},
   "source": [
    "#### 1.16. Створіть описову статистику за допомогою методу describe для нового стовпчика (avg)"
   ]
  },
  {
   "cell_type": "code",
   "execution_count": 284,
   "id": "76d4beeb-bb2d-4281-824a-ef2fcd901134",
   "metadata": {},
   "outputs": [
    {
     "name": "stdout",
     "output_type": "stream",
     "text": [
      "count    4854.000000\n",
      "mean     1883.371034\n",
      "std      1056.802546\n",
      "min       457.000000\n",
      "25%       605.658594\n",
      "50%      1678.630074\n",
      "75%      3243.200926\n",
      "max      7000.000000\n",
      "Name: avg, dtype: float64\n"
     ]
    }
   ],
   "source": [
    "describe_table = df['avg'].describe()\n",
    "print(describe_table)"
   ]
  },
  {
   "cell_type": "markdown",
   "id": "97f7eacc-be73-4dbb-80c0-83bdce0e95b1",
   "metadata": {},
   "source": [
    "#### 1.17. Збережіть отриману таблицю в CSV файл"
   ]
  },
  {
   "cell_type": "code",
   "execution_count": 286,
   "id": "21cfe4e8-7392-43b0-aa86-4cafea8d7180",
   "metadata": {},
   "outputs": [],
   "source": [
    "describe_table.to_csv(\"describe.csv\", index=True)"
   ]
  }
 ],
 "metadata": {
  "kernelspec": {
   "display_name": "Python 3 (ipykernel)",
   "language": "python",
   "name": "python3"
  },
  "language_info": {
   "codemirror_mode": {
    "name": "ipython",
    "version": 3
   },
   "file_extension": ".py",
   "mimetype": "text/x-python",
   "name": "python",
   "nbconvert_exporter": "python",
   "pygments_lexer": "ipython3",
   "version": "3.11.2"
  }
 },
 "nbformat": 4,
 "nbformat_minor": 5
}
