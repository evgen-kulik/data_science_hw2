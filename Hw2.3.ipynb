{
 "cells": [
  {
   "cell_type": "markdown",
   "id": "c6243bac-bc89-438b-a8bb-746caf6c8620",
   "metadata": {},
   "source": [
    "# Домашнє завдання № 2"
   ]
  },
  {
   "cell_type": "markdown",
   "id": "eb92a42b-9cd0-46f1-94ca-78f66801a0c8",
   "metadata": {},
   "source": [
    "## Частина третя: Аналіз датасет з Kaggle.com"
   ]
  },
  {
   "cell_type": "code",
   "execution_count": 898,
   "id": "c923eb5e-39ab-4f93-ba9f-c14f2a561dfd",
   "metadata": {},
   "outputs": [],
   "source": [
    "import matplotlib.pyplot as plt\n",
    "import pandas as pd\n",
    "import seaborn as sns"
   ]
  },
  {
   "cell_type": "markdown",
   "id": "b3b6a083-8d3d-4906-b517-f5b1d170f642",
   "metadata": {},
   "source": [
    "#### 3.1. Прочитайте csv файл (використовуйте функцію read_csv)"
   ]
  },
  {
   "cell_type": "code",
   "execution_count": 899,
   "id": "06a0fc8f-f6d2-4079-93d4-3b619fd75dbd",
   "metadata": {},
   "outputs": [],
   "source": [
    "df = pd.read_csv(\"bestsellers with categories.csv\")"
   ]
  },
  {
   "cell_type": "markdown",
   "id": "cee8e700-b718-45e7-a4e9-93551d916efc",
   "metadata": {},
   "source": [
    "#### 3.2. Виведіть перші п'ять рядків (використовується функція head)"
   ]
  },
  {
   "cell_type": "code",
   "execution_count": 900,
   "id": "60fd0b3b-5101-40b5-87e4-07557c5507af",
   "metadata": {},
   "outputs": [
    {
     "name": "stdout",
     "output_type": "stream",
     "text": [
      "                                                Name  \\\n",
      "0                      10-Day Green Smoothie Cleanse   \n",
      "1                                  11/22/63: A Novel   \n",
      "2            12 Rules for Life: An Antidote to Chaos   \n",
      "3                             1984 (Signet Classics)   \n",
      "4  5,000 Awesome Facts (About Everything!) (Natio...   \n",
      "\n",
      "                     Author  User Rating  Reviews  Price  Year        Genre  \n",
      "0                  JJ Smith          4.7    17350      8  2016  Non Fiction  \n",
      "1              Stephen King          4.6     2052     22  2011      Fiction  \n",
      "2        Jordan B. Peterson          4.7    18979     15  2018  Non Fiction  \n",
      "3             George Orwell          4.7    21424      6  2017      Fiction  \n",
      "4  National Geographic Kids          4.8     7665     12  2019  Non Fiction  \n"
     ]
    }
   ],
   "source": [
    "print(df.head())"
   ]
  },
  {
   "cell_type": "markdown",
   "id": "44c4015b-a639-4d92-8e45-72bdc00d0627",
   "metadata": {},
   "source": [
    "#### 3.3. Виведіть розміри датасету (використовуйте атрибут shape)"
   ]
  },
  {
   "cell_type": "code",
   "execution_count": 901,
   "id": "02ee2a27-c84d-4a3c-95e7-9ba9e12b9286",
   "metadata": {},
   "outputs": [
    {
     "name": "stdout",
     "output_type": "stream",
     "text": [
      "(550, 7)\n"
     ]
    }
   ],
   "source": [
    "print(df.shape)"
   ]
  },
  {
   "cell_type": "markdown",
   "id": "0c432205-f1a4-449a-a78e-9b1ec639966a",
   "metadata": {},
   "source": [
    "#### 3.3. Про скільки книг зберігає дані датасет? Відповідь: 550"
   ]
  },
  {
   "cell_type": "markdown",
   "id": "253e0968-271c-4ec9-9ee9-063dd47d1b1e",
   "metadata": {},
   "source": [
    "#### 3.4. Зміна назв колонок"
   ]
  },
  {
   "cell_type": "code",
   "execution_count": 902,
   "id": "c437ac7f-d015-44ab-add2-7389a0db2499",
   "metadata": {},
   "outputs": [],
   "source": [
    "df.columns = ['name', 'author', 'user_rating', 'reviews', 'price', 'year', 'genre']"
   ]
  },
  {
   "cell_type": "markdown",
   "id": "a892611a-c948-495a-9602-428a3a2341aa",
   "metadata": {},
   "source": [
    "#### 3.5. Первинне дослідження даних"
   ]
  },
  {
   "cell_type": "markdown",
   "id": "2bc310b9-8512-422a-8432-d43c2955c922",
   "metadata": {},
   "source": [
    "#### 3.5.1. Перевірте, чи у всіх рядків вистачає даних: виведіть кількість пропусків (na) у кожному зі стовпців (використовуйте функції isna та sum)"
   ]
  },
  {
   "cell_type": "code",
   "execution_count": 903,
   "id": "505272c4-5700-4a89-a713-824cbb62f0e6",
   "metadata": {},
   "outputs": [
    {
     "name": "stdout",
     "output_type": "stream",
     "text": [
      "      name  author  user_rating  reviews  price   year  genre\n",
      "0    False   False        False    False  False  False  False\n",
      "1    False   False        False    False  False  False  False\n",
      "2    False   False        False    False  False  False  False\n",
      "3    False   False        False    False  False  False  False\n",
      "4    False   False        False    False  False  False  False\n",
      "..     ...     ...          ...      ...    ...    ...    ...\n",
      "545  False   False        False    False  False  False  False\n",
      "546  False   False        False    False  False  False  False\n",
      "547  False   False        False    False  False  False  False\n",
      "548  False   False        False    False  False  False  False\n",
      "549  False   False        False    False  False  False  False\n",
      "\n",
      "[550 rows x 7 columns]\n"
     ]
    }
   ],
   "source": [
    "# проаналізуємо весь df на предмет відсутніх даних в комірках\n",
    "nan_value = df.isna()\n",
    "print(nan_value)"
   ]
  },
  {
   "cell_type": "code",
   "execution_count": 904,
   "id": "4558a1f1-e327-4a78-8fbf-63dec586b995",
   "metadata": {},
   "outputs": [
    {
     "name": "stdout",
     "output_type": "stream",
     "text": [
      "name           0\n",
      "author         0\n",
      "user_rating    0\n",
      "reviews        0\n",
      "price          0\n",
      "year           0\n",
      "genre          0\n",
      "dtype: int64\n"
     ]
    }
   ],
   "source": [
    "# підрахуємо кількість порожніх комірок по всьому df\n",
    "count_nan = nan_value.sum()\n",
    "print(count_nan)"
   ]
  },
  {
   "cell_type": "markdown",
   "id": "457418fe-ec47-49fa-a0ed-b4821b528726",
   "metadata": {},
   "source": [
    "#### 3.5.2. Чи є в якихось змінних пропуски? Відповідь: Ні"
   ]
  },
  {
   "cell_type": "markdown",
   "id": "6740502f-7a7b-4b1a-a0b7-2bdcc35d7139",
   "metadata": {},
   "source": [
    "#### 3.5.3. Перевірте, які є унікальні значення в колонці genre (використовуйте функцію unique)"
   ]
  },
  {
   "cell_type": "code",
   "execution_count": 905,
   "id": "19a7890a-0b12-4ac3-9e85-4ce70b8bdf86",
   "metadata": {},
   "outputs": [
    {
     "name": "stdout",
     "output_type": "stream",
     "text": [
      "['Non Fiction' 'Fiction']\n"
     ]
    }
   ],
   "source": [
    "print(df.genre.unique())"
   ]
  },
  {
   "cell_type": "markdown",
   "id": "10f5d1fc-4a34-4bc1-8686-a24180f71bf4",
   "metadata": {},
   "source": [
    "#### 3.5.4. Які є унікальні жанри? Відповідь: 'Non Fiction', 'Fiction'"
   ]
  },
  {
   "cell_type": "markdown",
   "id": "81c738ac-7265-48fc-b1c7-4602a77a893a",
   "metadata": {},
   "source": [
    "#### 3.5.5. Тепер подивіться на розподіл цін: побудуйте діаграму (використовуйте kind='hist')"
   ]
  },
  {
   "cell_type": "code",
   "execution_count": 906,
   "id": "f3b0d1c5-7712-4ffd-a79b-b980767f5257",
   "metadata": {},
   "outputs": [
    {
     "data": {
      "image/png": "[encoded data removed]",
      "text/plain": [
       "<Figure size 500x500 with 1 Axes>"
      ]
     },
     "metadata": {},
     "output_type": "display_data"
    }
   ],
   "source": [
    "sns.displot(df['price'], kde=False, color='blue')\n",
    "plt.title('Розподілення ціни')\n",
    "plt.show()"
   ]
  },
  {
   "cell_type": "markdown",
   "id": "7ff84e86-dbb5-490c-a600-ef1d8e94cc25",
   "metadata": {},
   "source": [
    "#### 3.5.6. Визначте, яка ціна у нас максимальна, мінімальна, середня, медіанна (використовуйте функції max, min, mean, median)"
   ]
  },
  {
   "cell_type": "code",
   "execution_count": 907,
   "id": "68c8ce7d-3192-4212-9e2d-9469e27644a0",
   "metadata": {},
   "outputs": [
    {
     "name": "stdout",
     "output_type": "stream",
     "text": [
      "105\n",
      "0\n",
      "13.1\n",
      "11.0\n"
     ]
    }
   ],
   "source": [
    "print(df['price'].max())\n",
    "print(df['price'].min())\n",
    "print(df['price'].mean())\n",
    "print(df['price'].median())"
   ]
  },
  {
   "cell_type": "markdown",
   "id": "6e946666-acf0-4478-aea3-d1a36efae466",
   "metadata": {},
   "source": [
    "#### 3.5.7. Максимальна ціна? Відповідь: 105"
   ]
  },
  {
   "cell_type": "markdown",
   "id": "fdf862d8-c340-4d36-836f-5013d417cf70",
   "metadata": {},
   "source": [
    "#### 3.5.8. Мінімальна ціна? Відповідь: 0"
   ]
  },
  {
   "cell_type": "markdown",
   "id": "7e0d2020-ce54-43c0-88b1-67c1fa8625b9",
   "metadata": {},
   "source": [
    "#### 3.5.9. Середня ціна? Відповідь: 13.1"
   ]
  },
  {
   "cell_type": "markdown",
   "id": "ed80de72-e867-442d-a045-214646ec5ad3",
   "metadata": {},
   "source": [
    "#### 3.5.10. Медіанна ціна? Відповідь: 11.0"
   ]
  },
  {
   "cell_type": "markdown",
   "id": "265cd5b9-1cd8-45cb-ba43-0d948682c4d8",
   "metadata": {},
   "source": [
    "#### 3.6. Пошук та сортування даних"
   ]
  },
  {
   "cell_type": "markdown",
   "id": "f923e38d-4e88-4776-af9c-87569fba1be5",
   "metadata": {},
   "source": [
    "#### 3.6.1. Який рейтинг у датасеті найвищий? Відповідь: 4.9"
   ]
  },
  {
   "cell_type": "code",
   "execution_count": 908,
   "id": "c8bfc749-dfc8-4397-861e-42a9ef6d9ea8",
   "metadata": {},
   "outputs": [
    {
     "data": {
      "text/plain": [
       "4.9"
      ]
     },
     "execution_count": 908,
     "metadata": {},
     "output_type": "execute_result"
    }
   ],
   "source": [
    "df['user_rating'].max()"
   ]
  },
  {
   "cell_type": "markdown",
   "id": "cbd2355b-82b2-47e9-a986-2caadfe4690a",
   "metadata": {},
   "source": [
    "#### 3.6.2. Скільки книг мають такий рейтинг? Відповідь: 52"
   ]
  },
  {
   "cell_type": "code",
   "execution_count": 909,
   "id": "2787044c-6e7e-4844-866b-61a2dcdd7269",
   "metadata": {},
   "outputs": [
    {
     "data": {
      "text/plain": [
       "52"
      ]
     },
     "execution_count": 909,
     "metadata": {},
     "output_type": "execute_result"
    }
   ],
   "source": [
    "len(df[df['user_rating']==4.9])"
   ]
  },
  {
   "cell_type": "markdown",
   "id": "afe9046d-5ca2-4cc0-9d27-763411153efb",
   "metadata": {},
   "source": [
    "#### 3.6.3. Яка книга має найбільше відгуків? Відповідь: 'Where the Crawdads Sing'"
   ]
  },
  {
   "cell_type": "code",
   "execution_count": 910,
   "id": "6ac5e6f6-bdb7-4807-a6b6-646b2a6bc58f",
   "metadata": {},
   "outputs": [
    {
     "data": {
      "text/html": [
       "<div>\n",
       "<style scoped>\n",
       "    .dataframe tbody tr th:only-of-type {\n",
       "        vertical-align: middle;\n",
       "    }\n",
       "\n",
       "    .dataframe tbody tr th {\n",
       "        vertical-align: top;\n",
       "    }\n",
       "\n",
       "    .dataframe thead th {\n",
       "        text-align: right;\n",
       "    }\n",
       "</style>\n",
       "<table border=\"1\" class=\"dataframe\">\n",
       "  <thead>\n",
       "    <tr style=\"text-align: right;\">\n",
       "      <th></th>\n",
       "      <th>name</th>\n",
       "      <th>author</th>\n",
       "      <th>user_rating</th>\n",
       "      <th>reviews</th>\n",
       "      <th>price</th>\n",
       "      <th>year</th>\n",
       "      <th>genre</th>\n",
       "    </tr>\n",
       "  </thead>\n",
       "  <tbody>\n",
       "    <tr>\n",
       "      <th>534</th>\n",
       "      <td>Where the Crawdads Sing</td>\n",
       "      <td>Delia Owens</td>\n",
       "      <td>4.8</td>\n",
       "      <td>87841</td>\n",
       "      <td>15</td>\n",
       "      <td>2019</td>\n",
       "      <td>Fiction</td>\n",
       "    </tr>\n",
       "  </tbody>\n",
       "</table>\n",
       "</div>"
      ],
      "text/plain": [
       "                        name       author  user_rating  reviews  price  year  \\\n",
       "534  Where the Crawdads Sing  Delia Owens          4.8    87841     15  2019   \n",
       "\n",
       "       genre  \n",
       "534  Fiction  "
      ]
     },
     "execution_count": 910,
     "metadata": {},
     "output_type": "execute_result"
    }
   ],
   "source": [
    "df[df['reviews']==df['reviews'].max()]"
   ]
  },
  {
   "cell_type": "markdown",
   "id": "11e8722c-563d-41bc-8bb5-cea99945d2c2",
   "metadata": {},
   "source": [
    "#### 3.6.4. З тих книг, що потрапили до Топ-50 у 2015 році, яка книга найдорожча (можна використати проміжний датафрейм)? Відповідь: 'Publication Manual of the American Psychological Association, 6th Edition'"
   ]
  },
  {
   "cell_type": "code",
   "execution_count": 911,
   "id": "d95970ac-57ff-4f6d-aa33-d9f1e872b1c3",
   "metadata": {},
   "outputs": [
    {
     "name": "stdout",
     "output_type": "stream",
     "text": [
      "                                                  name  \\\n",
      "277  Publication Manual of the American Psychologic...   \n",
      "\n",
      "                                 author  user_rating  reviews  price  year  \\\n",
      "277  American Psychological Association          4.5     8580     46  2015   \n",
      "\n",
      "           genre  \n",
      "277  Non Fiction  \n"
     ]
    }
   ],
   "source": [
    "# сгрупуємо книги по 2015 року\n",
    "df_2015 = df[df['year']==2015]\n",
    "# відсортуємо книги за рейтингом\n",
    "df_2015_sort = df_2015.sort_values(by='user_rating', ascending=False)\n",
    "# знайдемо 50 найпопулярніших книг\n",
    "df_2015_sort_50 = df_2015_sort[:50]\n",
    "# знайдемо найдорожчу з 50 найпопулярніших книг\n",
    "most_expensive_book = df_2015_sort_50.loc[df_2015_sort_50['price'] == df_2015_sort_50['price'].max()]\n",
    "print(most_expensive_book)"
   ]
  },
  {
   "cell_type": "markdown",
   "id": "8e6107ac-3fc0-42f7-a9bc-f0e8dbf16665",
   "metadata": {},
   "source": [
    "#### 3.6.5. Скільки книг жанру Fiction потрапили до Топ-50 у 2010 році (використовуйте &)? Відповідь: 20"
   ]
  },
  {
   "cell_type": "code",
   "execution_count": 912,
   "id": "6a25c477-aba4-4324-9f86-9266d01e905f",
   "metadata": {},
   "outputs": [
    {
     "name": "stdout",
     "output_type": "stream",
     "text": [
      "name           20\n",
      "author         20\n",
      "user_rating    20\n",
      "reviews        20\n",
      "price          20\n",
      "year           20\n",
      "genre          20\n",
      "dtype: int64\n"
     ]
    }
   ],
   "source": [
    "df_2010 = df[(df['year']==2010) & (df['genre']=='Fiction')].count()\n",
    "print(df_2010)"
   ]
  },
  {
   "cell_type": "markdown",
   "id": "4ea5d7f8-293c-4ad2-bf84-e6e7eb7f980a",
   "metadata": {},
   "source": [
    "#### 3.6.6. Скільки книг з рейтингом 4.9 потрапило до рейтингу у 2010 та 2011 роках (використовуйте | або функцію isin)? Відповідь: 1"
   ]
  },
  {
   "cell_type": "code",
   "execution_count": 913,
   "id": "16491185-697d-4371-9a0e-4a92122bd334",
   "metadata": {},
   "outputs": [
    {
     "name": "stdout",
     "output_type": "stream",
     "text": [
      "name           1\n",
      "author         1\n",
      "user_rating    1\n",
      "reviews        1\n",
      "price          1\n",
      "year           1\n",
      "genre          1\n",
      "dtype: int64\n"
     ]
    }
   ],
   "source": [
    "df_year = df[df['year'].isin([2010, 2011])]\n",
    "print(df_year[df_year['user_rating'] == 4.9].count())"
   ]
  },
  {
   "cell_type": "markdown",
   "id": "a26bde85-7e45-43b0-a120-c8da9949455e",
   "metadata": {},
   "source": [
    "#### 3.6.7. І насамкінець, давайте відсортуємо за зростанням ціни всі книги, які потрапили до рейтингу в 2015 році і коштують дешевше за 8 доларів (використовуйте функцію sort_values). Яка книга остання у відсортованому списку? Відповідь: 'To Kill a Mockingbird'"
   ]
  },
  {
   "cell_type": "code",
   "execution_count": 914,
   "id": "a360ee67-e390-47e2-9e65-07e94a22c0ff",
   "metadata": {},
   "outputs": [
    {
     "name": "stdout",
     "output_type": "stream",
     "text": [
      "                                                  name  \\\n",
      "18   Adult Coloring Books: A Coloring Book for Adul...   \n",
      "350                          The Book with No Pictures   \n",
      "325  The 5 Love Languages: The Secret to Love that ...   \n",
      "248                          Oh, the Places You'll Go!   \n",
      "191  Jesus Calling: Enjoying Peace in His Presence ...   \n",
      "253              Old School (Diary of a Wimpy Kid #10)   \n",
      "16   Adult Coloring Book: Stress Relieving Animal D...   \n",
      "17      Adult Coloring Book: Stress Relieving Patterns   \n",
      "376  The Four Agreements: A Practical Guide to Pers...   \n",
      "478                        The Very Hungry Caterpillar   \n",
      "224                                   Love You Forever   \n",
      "201  Killing Reagan: The Violent Assault That Chang...   \n",
      "89   Dover Creative Haven Art Nouveau Animal Design...   \n",
      "63                      Dear Zoo: A Lift-the-Flap Book   \n",
      "55   Creative Haven Owls Coloring Book (Adult Color...   \n",
      "28                        Baby Touch and Feel: Animals   \n",
      "206                         Knock-Knock Jokes for Kids   \n",
      "210                      Laugh-Out-Loud Jokes for Kids   \n",
      "123                               Giraffes Can't Dance   \n",
      "111                                    First 100 Words   \n",
      "54   Creative Haven Creative Cats Coloring Book (Ad...   \n",
      "507                              To Kill a Mockingbird   \n",
      "\n",
      "                        author  user_rating  reviews  price  year        genre  \n",
      "18   Coloring Books for Adults          4.5     2426      8  2015  Non Fiction  \n",
      "350                B. J. Novak          4.8     8081      8  2015      Fiction  \n",
      "325               Gary Chapman          4.8    25554      8  2015  Non Fiction  \n",
      "248                  Dr. Seuss          4.9    21834      8  2015      Fiction  \n",
      "191                Sarah Young          4.9    19576      8  2015  Non Fiction  \n",
      "253                Jeff Kinney          4.8     6169      7  2015      Fiction  \n",
      "16          Blue Star Coloring          4.6     2925      6  2015  Non Fiction  \n",
      "17          Blue Star Coloring          4.4     2951      6  2015  Non Fiction  \n",
      "376            Don Miguel Ruiz          4.7    23308      6  2015  Non Fiction  \n",
      "478                 Eric Carle          4.9    19546      5  2015      Fiction  \n",
      "224              Robert Munsch          4.8    18613      5  2015      Fiction  \n",
      "201              Bill O'Reilly          4.6     5235      5  2015  Non Fiction  \n",
      "89                 Marty Noble          4.6     2134      5  2015  Non Fiction  \n",
      "63                Rod Campbell          4.8    10922      5  2015      Fiction  \n",
      "55             Marjorie Sarnat          4.8     3871      5  2015  Non Fiction  \n",
      "28                          DK          4.6     5360      5  2015  Non Fiction  \n",
      "206                Rob Elliott          4.5     3673      4  2015  Non Fiction  \n",
      "210                Rob Elliott          4.6     6990      4  2015  Non Fiction  \n",
      "123              Giles Andreae          4.8    14038      4  2015      Fiction  \n",
      "111               Roger Priddy          4.7    17323      4  2015  Non Fiction  \n",
      "54             Marjorie Sarnat          4.8     4022      4  2015  Non Fiction  \n",
      "507                 Harper Lee          4.8    26234      0  2015      Fiction  \n"
     ]
    }
   ],
   "source": [
    "# сгрупуємо книги по 2015 року\n",
    "df_2015 = df[df['year']==2015]\n",
    "# відсортуємо книги за рейтингом\n",
    "df_2015_sort = df_2015[df_2015['price']<=8].sort_values(by='price', ascending=False)\n",
    "print(df_2015_sort)"
   ]
  },
  {
   "cell_type": "markdown",
   "id": "464fe4de-2c9c-487b-ae99-4693c1a26aa8",
   "metadata": {},
   "source": [
    "#### 3.7. Агрегування даних та з'єднання таблиць"
   ]
  },
  {
   "cell_type": "markdown",
   "id": "2100108c-8eb3-42fc-96de-f28ade1ed496",
   "metadata": {},
   "source": [
    "#### 3.7.1. Для початку давайте подивимося на максимальну та мінімальну ціни для кожного з жанрів (використовуйте функції groupby та agg, для підрахунку мінімальних та максимальних значень використовуйте max та min). Не беріть усі стовпці, виберіть тільки потрібні вам"
   ]
  },
  {
   "cell_type": "markdown",
   "id": "c47a99c6-ceba-4706-8447-28be40e87d58",
   "metadata": {},
   "source": [
    "#### 3.7.1.1. Максимальна ціна для жанру Fiction: Відповідь: 82"
   ]
  },
  {
   "cell_type": "markdown",
   "id": "08bd1ce6-b37a-442d-980a-4242dd546393",
   "metadata": {},
   "source": [
    "#### 3.7.1.2. Мінімальна ціна для жанру Non Fiction: Відповідь: 0"
   ]
  },
  {
   "cell_type": "code",
   "execution_count": 915,
   "id": "5598e0b4-7f07-47d6-9a8b-93dc09c85359",
   "metadata": {},
   "outputs": [
    {
     "name": "stdout",
     "output_type": "stream",
     "text": [
      "         min  max\n",
      "genre            \n",
      "Fiction    0   82\n"
     ]
    }
   ],
   "source": [
    "df_new = df[df['genre'] == 'Fiction'].groupby('genre')['price'].agg(['min', 'max'])\n",
    "print(df_new)"
   ]
  },
  {
   "cell_type": "markdown",
   "id": "f3c9c4d2-44f2-457d-89a5-0ca222231eef",
   "metadata": {},
   "source": [
    "#### 3.7.1.3. Максимальна ціна для жанру Non Fiction: Відповідь: 0"
   ]
  },
  {
   "cell_type": "markdown",
   "id": "464d03c7-0284-4178-b569-94601bbdf2ea",
   "metadata": {},
   "source": [
    "#### 3.7.1.4. Мінімальна ціна для жанру Non Fiction: Відповідь: 105"
   ]
  },
  {
   "cell_type": "code",
   "execution_count": 916,
   "id": "4340c7c6-4061-45d8-8627-4605de8f530d",
   "metadata": {},
   "outputs": [
    {
     "name": "stdout",
     "output_type": "stream",
     "text": [
      "             min  max\n",
      "genre                \n",
      "Non Fiction    0  105\n"
     ]
    }
   ],
   "source": [
    "df_new = df[df['genre'] == 'Non Fiction'].groupby('genre')['price'].agg(['min', 'max'])\n",
    "print(df_new)"
   ]
  },
  {
   "cell_type": "markdown",
   "id": "513ceb1c-9e39-4776-ad32-ec55e9545d47",
   "metadata": {},
   "source": [
    "#### 3.7.2. Тепер створіть новий датафрейм, який вміщатиме кількість книг для кожного з авторів (використовуйте функції groupby та agg, для підрахунку кількості використовуйте count). Не беріть усі стовпці, оберіть тільки потрібні"
   ]
  },
  {
   "cell_type": "code",
   "execution_count": 917,
   "id": "ce6ee437-275f-4995-9ca0-82ae1be84e9d",
   "metadata": {},
   "outputs": [
    {
     "name": "stdout",
     "output_type": "stream",
     "text": [
      "                            count\n",
      "author                           \n",
      "Abraham Verghese                2\n",
      "Adam Gasiewski                  1\n",
      "Adam Mansbach                   1\n",
      "Adir Levy                       1\n",
      "Admiral William H. McRaven      1\n",
      "...                           ...\n",
      "Walter Isaacson                 3\n",
      "William Davis                   2\n",
      "William P. Young                2\n",
      "Wizards RPG Team                3\n",
      "Zhi Gang Sha                    2\n",
      "\n",
      "[248 rows x 1 columns]\n"
     ]
    }
   ],
   "source": [
    "df_new_1 = df.groupby('author')['name'].agg(['count'])\n",
    "print(df_new_1)"
   ]
  },
  {
   "cell_type": "markdown",
   "id": "4c81b377-9b21-49d1-aec6-eeb92e3e52f5",
   "metadata": {},
   "source": [
    "#### 3.7.2.1. Якої розмірності вийшла таблиця? Відповідь: 248 rows x 1 columns"
   ]
  },
  {
   "cell_type": "markdown",
   "id": "a7c9cdc8-6363-48da-9400-7bfed0e5d421",
   "metadata": {},
   "source": [
    "#### 3.7.2.2. Який автор має найбільше книг? Відповідь: Jeff Kinney"
   ]
  },
  {
   "cell_type": "code",
   "execution_count": 918,
   "id": "1f31c2ec-e15c-459b-81f9-4af2c2186ac9",
   "metadata": {},
   "outputs": [
    {
     "name": "stdout",
     "output_type": "stream",
     "text": [
      "                                    count\n",
      "author                                   \n",
      "Jeff Kinney                            12\n",
      "Gary Chapman                           11\n",
      "Suzanne Collins                        11\n",
      "Rick Riordan                           11\n",
      "American Psychological Association     10\n",
      "...                                   ...\n",
      "David Grann                             1\n",
      "Larry Schweikart                        1\n",
      "David McCullough                        1\n",
      "Khaled Hosseini                         1\n",
      "Muriel Barbery                          1\n",
      "\n",
      "[248 rows x 1 columns]\n"
     ]
    }
   ],
   "source": [
    "df_sort = df_new_1.sort_values(by='count', ascending=False)\n",
    "print(df_sort)"
   ]
  },
  {
   "cell_type": "markdown",
   "id": "e7a2510d-6180-498e-a0e6-8b13a0def570",
   "metadata": {},
   "source": [
    "#### 3.7.2.3. Скільки книг цього автора? Відповідь: 12"
   ]
  },
  {
   "cell_type": "markdown",
   "id": "2e393685-6ab8-43c3-a17e-a7dde819c4a4",
   "metadata": {},
   "source": [
    "#### 3.7.3. Тепер створіть другий датафрейм, який буде вміщати середній рейтинг для кожного автора (використовуйте функції groupby та agg, для підрахунку середнього значення використовуйте mean). Не беріть усі стовпці, оберіть тільки потрібні"
   ]
  },
  {
   "cell_type": "code",
   "execution_count": 919,
   "id": "54863304-a880-4aac-b1c5-30e7529320e7",
   "metadata": {},
   "outputs": [
    {
     "name": "stdout",
     "output_type": "stream",
     "text": [
      "                      mean\n",
      "author                    \n",
      "Patrick Thorpe         4.9\n",
      "Lin-Manuel Miranda     4.9\n",
      "Chip Gaines            4.9\n",
      "Sherri Duskey Rinker   4.9\n",
      "Nathan W. Pyle         4.9\n",
      "...                    ...\n",
      "Paula Hawkins          4.1\n",
      "Muriel Barbery         4.0\n",
      "Gillian Flynn          4.0\n",
      "Gallup                 4.0\n",
      "Donna Tartt            3.9\n",
      "\n",
      "[248 rows x 1 columns]\n"
     ]
    }
   ],
   "source": [
    "df_new_2 = df.groupby('author')['user_rating'].agg(['mean']).sort_values(by='mean', ascending=False)\n",
    "print(df_new_2)"
   ]
  },
  {
   "cell_type": "markdown",
   "id": "1ac5d239-5bc5-4ae5-af65-d2b611042ce2",
   "metadata": {},
   "source": [
    "#### 3.7.3.1. У якого автора середній рейтинг мінімальний? Відповідь: Donna Tartt"
   ]
  },
  {
   "cell_type": "markdown",
   "id": "7db9d1fa-f05a-4eaa-aece-2cbd9cac9fd2",
   "metadata": {},
   "source": [
    "#### 3.7.3.2. Який у цього автора середній рейтинг? Відповідь: 3.9"
   ]
  },
  {
   "cell_type": "markdown",
   "id": "74e2d1ca-3e13-4a61-9234-885c6d809703",
   "metadata": {},
   "source": [
    "#### 3.7.4. З'єднайте останні два датафрейми так, щоб для кожного автора було видно кількість книг та середній рейтинг (Використовуйте функцію concat з параметром axis=1). Збережіть результат у змінну"
   ]
  },
  {
   "cell_type": "code",
   "execution_count": 920,
   "id": "82df1fc3-9ce9-4ae7-8bcc-f5b7f5c8cc43",
   "metadata": {},
   "outputs": [
    {
     "name": "stdout",
     "output_type": "stream",
     "text": [
      "                            count      mean\n",
      "author                                     \n",
      "Abraham Verghese                2  4.600000\n",
      "Adam Gasiewski                  1  4.400000\n",
      "Adam Mansbach                   1  4.800000\n",
      "Adir Levy                       1  4.800000\n",
      "Admiral William H. McRaven      1  4.700000\n",
      "...                           ...       ...\n",
      "Walter Isaacson                 3  4.566667\n",
      "William Davis                   2  4.400000\n",
      "William P. Young                2  4.600000\n",
      "Wizards RPG Team                3  4.800000\n",
      "Zhi Gang Sha                    2  4.600000\n",
      "\n",
      "[248 rows x 2 columns]\n"
     ]
    }
   ],
   "source": [
    "df_total = pd.concat([df_new_1, df_new_2], axis=1)\n",
    "print(df_total)"
   ]
  },
  {
   "cell_type": "markdown",
   "id": "5f831edc-c6c9-477d-8247-99c835c8e7a5",
   "metadata": {},
   "source": [
    "#### 3.7.4.1 Відсортуйте датафрейм за зростаючою кількістю книг та зростаючим рейтингом (використовуйте функцію sort_values)"
   ]
  },
  {
   "cell_type": "code",
   "execution_count": 921,
   "id": "5af2a88b-3fee-4361-a838-00090504edb1",
   "metadata": {},
   "outputs": [
    {
     "name": "stdout",
     "output_type": "stream",
     "text": [
      "                      count  mean\n",
      "author                           \n",
      "Patrick Thorpe            1   4.9\n",
      "Lin-Manuel Miranda        1   4.9\n",
      "Chip Gaines               1   4.9\n",
      "Sherri Duskey Rinker      2   4.9\n",
      "Nathan W. Pyle            1   4.9\n",
      "...                     ...   ...\n",
      "Paula Hawkins             2   4.1\n",
      "Muriel Barbery            1   4.0\n",
      "Gillian Flynn             3   4.0\n",
      "Gallup                    9   4.0\n",
      "Donna Tartt               2   3.9\n",
      "\n",
      "[248 rows x 2 columns]\n",
      "                                    count      mean\n",
      "author                                             \n",
      "Jeff Kinney                            12  4.800000\n",
      "Gary Chapman                           11  4.736364\n",
      "Suzanne Collins                        11  4.663636\n",
      "Rick Riordan                           11  4.772727\n",
      "American Psychological Association     10  4.500000\n",
      "...                                   ...       ...\n",
      "David Grann                             1  4.600000\n",
      "Larry Schweikart                        1  4.600000\n",
      "David McCullough                        1  4.700000\n",
      "Khaled Hosseini                         1  4.300000\n",
      "Muriel Barbery                          1  4.000000\n",
      "\n",
      "[248 rows x 2 columns]\n"
     ]
    }
   ],
   "source": [
    "print(df_total.sort_values(by='mean', ascending=False))\n",
    "print(df_total.sort_values(by='count', ascending=False))"
   ]
  },
  {
   "cell_type": "markdown",
   "id": "1208f936-f2d1-43f2-870a-23f6bb9084a8",
   "metadata": {},
   "source": [
    "#### 3.7.4.2. Який автор перший у списку? Відповідь: Jeff Kinney (найбільше книг); Patrick Thorpe (найбільший середній рейтинг)"
   ]
  },
  {
   "cell_type": "markdown",
   "id": "a44212e9-0184-4c02-937d-31db4233e863",
   "metadata": {},
   "source": [
    "#### 3.8. Візуалізація. Додайте від 3 до 5 графіків функцій різного типу на ваш вибір. Задайте графікам оформлення, щоб кожен графік чимось відрізнявся і не був схожим на інші. Можна використовувати як matplotlib, так і seaborn"
   ]
  },
  {
   "cell_type": "code",
   "execution_count": 922,
   "id": "6206e783-0880-48f0-a465-b2f4fcb18345",
   "metadata": {},
   "outputs": [
    {
     "data": {
      "image/png": "[encoded data removed]",
      "text/plain": [
       "<Figure size 500x500 with 1 Axes>"
      ]
     },
     "metadata": {},
     "output_type": "display_data"
    }
   ],
   "source": [
    "# 1й графік\n",
    "sns.displot(df['user_rating'], kde=False, color='g')\n",
    "plt.title('Розподілення рейтингу', color='g')\n",
    "plt.show()"
   ]
  },
  {
   "cell_type": "code",
   "execution_count": 923,
   "id": "75129110-f04b-44fb-8471-32f53a6bce3a",
   "metadata": {},
   "outputs": [
    {
     "data": {
      "image/png": "[encoded data removed]",
      "text/plain": [
       "<Figure size 640x480 with 1 Axes>"
      ]
     },
     "metadata": {},
     "output_type": "display_data"
    }
   ],
   "source": [
    "# 2й графік\n",
    "df_srcl = df.groupby('genre')['name'].agg(['count'])\n",
    "\n",
    "labels = ['Fiction', 'Non Fiction']\n",
    "data = [df_srcl.iloc[0]['count'], df_srcl.iloc[1]['count']]\n",
    "explode = [0.15, 0]\n",
    "plt.pie(\n",
    "    data,\n",
    "    labels=labels,\n",
    "    shadow=True,\n",
    "    explode=explode,\n",
    "    autopct=\"%.2f%%\",\n",
    "    pctdistance=0.7,\n",
    "    labeldistance=1.1,\n",
    ")\n",
    "plt.title(\"Розподіл по жанрах\", fontsize=15, color=\"b\", pad=15)\n",
    "plt.show()"
   ]
  },
  {
   "cell_type": "code",
   "execution_count": 924,
   "id": "a3fb40eb-26a7-4dc5-8d17-201b1c37e082",
   "metadata": {},
   "outputs": [
    {
     "data": {
      "image/png": "[encoded data removed]",
      "text/plain": [
       "<Figure size 640x480 with 1 Axes>"
      ]
     },
     "metadata": {},
     "output_type": "display_data"
    }
   ],
   "source": [
    "# 3й графік\n",
    "sns.lineplot(x=\"price\", y='user_rating', data=df, color=\"g\", linestyle=\"-\", marker=\"o\")\n",
    "plt.title(\"Ціна та рейтинг\", fontsize=15, color=\"g\")\n",
    "plt.xticks(rotation=90)\n",
    "plt.show()"
   ]
  },
  {
   "cell_type": "code",
   "execution_count": 925,
   "id": "8a8485be-0d01-44e2-aad2-dcbc3979042e",
   "metadata": {},
   "outputs": [
    {
     "name": "stdout",
     "output_type": "stream",
     "text": [
      "       mean\n",
      "year       \n",
      "2009  15.40\n",
      "2010  13.48\n",
      "2011  15.10\n",
      "2012  15.30\n",
      "2013  14.60\n",
      "2014  14.64\n",
      "2015  10.42\n",
      "2016  13.18\n",
      "2017  11.38\n",
      "2018  10.52\n",
      "2019  10.08\n"
     ]
    },
    {
     "data": {
      "image/png": "[encoded data removed]",
      "text/plain": [
       "<Figure size 640x480 with 1 Axes>"
      ]
     },
     "metadata": {},
     "output_type": "display_data"
    }
   ],
   "source": [
    "# 4й графік\n",
    "df_prc = df.groupby('year')['price'].agg(['mean'])\n",
    "print(df_prc)\n",
    "\n",
    "sns.barplot(x=\"year\", y=\"mean\", data=df_prc)\n",
    "plt.title(\"Середня ціна\", fontsize=15, color=\"b\")\n",
    "plt.xlabel(\"Рік\", fontsize=14)\n",
    "plt.ylabel(\"Середня ціна\", fontsize=14)\n",
    "plt.xticks(rotation=90)\n",
    "plt.show()"
   ]
  },
  {
   "cell_type": "code",
   "execution_count": 929,
   "id": "b3d065f7-32cc-4112-8d47-5b7e86409b84",
   "metadata": {},
   "outputs": [
    {
     "name": "stdout",
     "output_type": "stream",
     "text": [
      "         sum\n",
      "year        \n",
      "2009  235506\n",
      "2010  273981\n",
      "2011  405041\n",
      "2012  654546\n",
      "2013  654907\n",
      "2014  792997\n",
      "2015  711669\n",
      "2016  709800\n",
      "2017  644420\n",
      "2018  696521\n",
      "2019  794917\n"
     ]
    },
    {
     "data": {
      "image/png": "[encoded data removed]",
      "text/plain": [
       "<Figure size 800x800 with 1 Axes>"
      ]
     },
     "metadata": {},
     "output_type": "display_data"
    }
   ],
   "source": [
    "# 5й графік\n",
    "df_rew = df.groupby('year')['reviews'].agg(['sum'])\n",
    "print(df_rew)\n",
    "\n",
    "fig, ax = plt.subplots(figsize=(8,8))\n",
    "plt.plot(df_rew, color=\"b\")\n",
    "plt.xticks(rotation=90)\n",
    "plt.xlabel(\"Рік\", fontsize=\"small\", color=\"b\")\n",
    "plt.ylabel(\"Кількість коментарів\", fontsize=\"small\", color=\"b\")\n",
    "plt.title(\"Кількість коментарів в різні роки\", fontsize=15, color=\"b\")\n",
    "plt.show()"
   ]
  },
  {
   "cell_type": "code",
   "execution_count": null,
   "id": "5943d802-ed4a-4357-9840-de18552399c5",
   "metadata": {},
   "outputs": [],
   "source": []
  }
 ],
 "metadata": {
  "kernelspec": {
   "display_name": "Python 3 (ipykernel)",
   "language": "python",
   "name": "python3"
  },
  "language_info": {
   "codemirror_mode": {
    "name": "ipython",
    "version": 3
   },
   "file_extension": ".py",
   "mimetype": "text/x-python",
   "name": "python",
   "nbconvert_exporter": "python",
   "pygments_lexer": "ipython3",
   "version": "3.11.2"
  }
 },
 "nbformat": 4,
 "nbformat_minor": 5
}
