{
 "cells": [
  {
   "cell_type": "markdown",
   "id": "c6243bac-bc89-438b-a8bb-746caf6c8620",
   "metadata": {},
   "source": [
    "# Домашнє завдання № 2"
   ]
  },
  {
   "cell_type": "markdown",
   "id": "eb92a42b-9cd0-46f1-94ca-78f66801a0c8",
   "metadata": {},
   "source": [
    "## Частина третя: Аналіз датасет з Kaggle.com"
   ]
  },
  {
   "cell_type": "code",
   "execution_count": 30,
   "id": "c923eb5e-39ab-4f93-ba9f-c14f2a561dfd",
   "metadata": {},
   "outputs": [],
   "source": [
    "import matplotlib.pyplot as plt\n",
    "import pandas as pd\n",
    "import seaborn as sns"
   ]
  },
  {
   "cell_type": "markdown",
   "id": "b3b6a083-8d3d-4906-b517-f5b1d170f642",
   "metadata": {},
   "source": [
    "#### 3.1. Прочитайте csv файл (використовуйте функцію read_csv)"
   ]
  },
  {
   "cell_type": "code",
   "execution_count": 3,
   "id": "06a0fc8f-f6d2-4079-93d4-3b619fd75dbd",
   "metadata": {},
   "outputs": [],
   "source": [
    "df = pd.read_csv(\"bestsellers with categories.csv\")"
   ]
  },
  {
   "cell_type": "markdown",
   "id": "cee8e700-b718-45e7-a4e9-93551d916efc",
   "metadata": {},
   "source": [
    "#### 3.2. Виведіть перші п'ять рядків (використовується функція head)"
   ]
  },
  {
   "cell_type": "code",
   "execution_count": 4,
   "id": "60fd0b3b-5101-40b5-87e4-07557c5507af",
   "metadata": {},
   "outputs": [
    {
     "name": "stdout",
     "output_type": "stream",
     "text": [
      "                                                Name  \\\n",
      "0                      10-Day Green Smoothie Cleanse   \n",
      "1                                  11/22/63: A Novel   \n",
      "2            12 Rules for Life: An Antidote to Chaos   \n",
      "3                             1984 (Signet Classics)   \n",
      "4  5,000 Awesome Facts (About Everything!) (Natio...   \n",
      "\n",
      "                     Author  User Rating  Reviews  Price  Year        Genre  \n",
      "0                  JJ Smith          4.7    17350      8  2016  Non Fiction  \n",
      "1              Stephen King          4.6     2052     22  2011      Fiction  \n",
      "2        Jordan B. Peterson          4.7    18979     15  2018  Non Fiction  \n",
      "3             George Orwell          4.7    21424      6  2017      Fiction  \n",
      "4  National Geographic Kids          4.8     7665     12  2019  Non Fiction  \n"
     ]
    }
   ],
   "source": [
    "print(df.head())"
   ]
  },
  {
   "cell_type": "markdown",
   "id": "44c4015b-a639-4d92-8e45-72bdc00d0627",
   "metadata": {},
   "source": [
    "#### 3.3. Виведіть розміри датасету (використовуйте атрибут shape)"
   ]
  },
  {
   "cell_type": "code",
   "execution_count": 5,
   "id": "02ee2a27-c84d-4a3c-95e7-9ba9e12b9286",
   "metadata": {},
   "outputs": [
    {
     "name": "stdout",
     "output_type": "stream",
     "text": [
      "(550, 7)\n"
     ]
    }
   ],
   "source": [
    "print(df.shape)"
   ]
  },
  {
   "cell_type": "markdown",
   "id": "0c432205-f1a4-449a-a78e-9b1ec639966a",
   "metadata": {},
   "source": [
    "#### 3.3. Про скільки книг зберігає дані датасет? Відповідь: 550"
   ]
  },
  {
   "cell_type": "markdown",
   "id": "253e0968-271c-4ec9-9ee9-063dd47d1b1e",
   "metadata": {},
   "source": [
    "#### 3.4. Зміна назв колонок"
   ]
  },
  {
   "cell_type": "code",
   "execution_count": 6,
   "id": "c437ac7f-d015-44ab-add2-7389a0db2499",
   "metadata": {},
   "outputs": [],
   "source": [
    "df.columns = ['name', 'author', 'user_rating', 'reviews', 'price', 'year', 'genre']"
   ]
  },
  {
   "cell_type": "markdown",
   "id": "a892611a-c948-495a-9602-428a3a2341aa",
   "metadata": {},
   "source": [
    "#### 3.5. Первинне дослідження даних"
   ]
  },
  {
   "cell_type": "markdown",
   "id": "2bc310b9-8512-422a-8432-d43c2955c922",
   "metadata": {},
   "source": [
    "#### 3.5.1. Перевірте, чи у всіх рядків вистачає даних: виведіть кількість пропусків (na) у кожному зі стовпців (використовуйте функції isna та sum)"
   ]
  },
  {
   "cell_type": "code",
   "execution_count": 10,
   "id": "505272c4-5700-4a89-a713-824cbb62f0e6",
   "metadata": {},
   "outputs": [
    {
     "name": "stdout",
     "output_type": "stream",
     "text": [
      "      name  author  user_rating  reviews  price   year  genre\n",
      "0    False   False        False    False  False  False  False\n",
      "1    False   False        False    False  False  False  False\n",
      "2    False   False        False    False  False  False  False\n",
      "3    False   False        False    False  False  False  False\n",
      "4    False   False        False    False  False  False  False\n",
      "..     ...     ...          ...      ...    ...    ...    ...\n",
      "545  False   False        False    False  False  False  False\n",
      "546  False   False        False    False  False  False  False\n",
      "547  False   False        False    False  False  False  False\n",
      "548  False   False        False    False  False  False  False\n",
      "549  False   False        False    False  False  False  False\n",
      "\n",
      "[550 rows x 7 columns]\n"
     ]
    }
   ],
   "source": [
    "# проаналізуємо весь df на предмет відсутніх даних в комірках\n",
    "nan_value = df.isna()\n",
    "print(nan_value)"
   ]
  },
  {
   "cell_type": "code",
   "execution_count": 9,
   "id": "4558a1f1-e327-4a78-8fbf-63dec586b995",
   "metadata": {},
   "outputs": [
    {
     "name": "stdout",
     "output_type": "stream",
     "text": [
      "name           0\n",
      "author         0\n",
      "user_rating    0\n",
      "reviews        0\n",
      "price          0\n",
      "year           0\n",
      "genre          0\n",
      "dtype: int64\n"
     ]
    }
   ],
   "source": [
    "# підрахуємо кількість порожніх комірок по всьому df\n",
    "count_nan = nan_value.sum()\n",
    "print(count_nan)"
   ]
  },
  {
   "cell_type": "markdown",
   "id": "457418fe-ec47-49fa-a0ed-b4821b528726",
   "metadata": {},
   "source": [
    "#### 3.5.2. Чи є в якихось змінних пропуски? Відповідь: Ні"
   ]
  },
  {
   "cell_type": "markdown",
   "id": "6740502f-7a7b-4b1a-a0b7-2bdcc35d7139",
   "metadata": {},
   "source": [
    "#### 3.5.3. Перевірте, які є унікальні значення в колонці genre (використовуйте функцію unique)"
   ]
  },
  {
   "cell_type": "code",
   "execution_count": 15,
   "id": "19a7890a-0b12-4ac3-9e85-4ce70b8bdf86",
   "metadata": {},
   "outputs": [
    {
     "name": "stdout",
     "output_type": "stream",
     "text": [
      "['Non Fiction' 'Fiction']\n"
     ]
    }
   ],
   "source": [
    "print(df.genre.unique())"
   ]
  },
  {
   "cell_type": "markdown",
   "id": "10f5d1fc-4a34-4bc1-8686-a24180f71bf4",
   "metadata": {},
   "source": [
    "#### 3.5.4. Які є унікальні жанри? Відповідь: 'Non Fiction', 'Fiction'"
   ]
  },
  {
   "cell_type": "markdown",
   "id": "81c738ac-7265-48fc-b1c7-4602a77a893a",
   "metadata": {},
   "source": [
    "#### 3.5.5. Тепер подивіться на розподіл цін: побудуйте діаграму (використовуйте kind='hist')"
   ]
  },
  {
   "cell_type": "code",
   "execution_count": 70,
   "id": "f3b0d1c5-7712-4ffd-a79b-b980767f5257",
   "metadata": {},
   "outputs": [
    {
     "data": {
      "image/png": "[encoded data removed]",
      "text/plain": [
       "<Figure size 500x500 with 1 Axes>"
      ]
     },
     "metadata": {},
     "output_type": "display_data"
    }
   ],
   "source": [
    "sns.displot(df['price'], kde=False, color='blue')\n",
    "plt.title('Розподілення ціни')\n",
    "plt.show()"
   ]
  },
  {
   "cell_type": "markdown",
   "id": "7ff84e86-dbb5-490c-a600-ef1d8e94cc25",
   "metadata": {},
   "source": [
    "#### 3.5.6. Визначте, яка ціна у нас максимальна, мінімальна, середня, медіанна (використовуйте функції max, min, mean, median)"
   ]
  },
  {
   "cell_type": "code",
   "execution_count": 73,
   "id": "68c8ce7d-3192-4212-9e2d-9469e27644a0",
   "metadata": {},
   "outputs": [
    {
     "name": "stdout",
     "output_type": "stream",
     "text": [
      "105\n",
      "0\n",
      "13.1\n",
      "11.0\n"
     ]
    }
   ],
   "source": [
    "print(df['price'].max())\n",
    "print(df['price'].min())\n",
    "print(df['price'].mean())\n",
    "print(df['price'].median())"
   ]
  },
  {
   "cell_type": "markdown",
   "id": "6e946666-acf0-4478-aea3-d1a36efae466",
   "metadata": {},
   "source": [
    "#### 3.5.7. Максимальна ціна? Відповідь: 105"
   ]
  },
  {
   "cell_type": "markdown",
   "id": "fdf862d8-c340-4d36-836f-5013d417cf70",
   "metadata": {},
   "source": [
    "#### 3.5.8. Мінімальна ціна? Відповідь: 0"
   ]
  },
  {
   "cell_type": "markdown",
   "id": "7e0d2020-ce54-43c0-88b1-67c1fa8625b9",
   "metadata": {},
   "source": [
    "#### 3.5.9. Середня ціна? Відповідь: 13.1"
   ]
  },
  {
   "cell_type": "markdown",
   "id": "ed80de72-e867-442d-a045-214646ec5ad3",
   "metadata": {},
   "source": [
    "#### 3.5.10. Медіанна ціна? Відповідь: 11.0"
   ]
  },
  {
   "cell_type": "markdown",
   "id": "265cd5b9-1cd8-45cb-ba43-0d948682c4d8",
   "metadata": {},
   "source": [
    "#### 3.6. Пошук та сортування даних"
   ]
  },
  {
   "cell_type": "markdown",
   "id": "f923e38d-4e88-4776-af9c-87569fba1be5",
   "metadata": {},
   "source": [
    "#### 3.6.1. Який рейтинг у датасеті найвищий? Відповідь: 4.9"
   ]
  },
  {
   "cell_type": "code",
   "execution_count": 75,
   "id": "c8bfc749-dfc8-4397-861e-42a9ef6d9ea8",
   "metadata": {},
   "outputs": [
    {
     "name": "stdout",
     "output_type": "stream",
     "text": [
      "4.9\n"
     ]
    }
   ],
   "source": [
    "print(df['user_rating'].max())"
   ]
  },
  {
   "cell_type": "markdown",
   "id": "cbd2355b-82b2-47e9-a986-2caadfe4690a",
   "metadata": {},
   "source": [
    "#### 3.6.2. Скільки книг мають такий рейтинг? Відповідь: "
   ]
  },
  {
   "cell_type": "code",
   "execution_count": null,
   "id": "decee058-d1f8-445e-aa99-1a47683bcf62",
   "metadata": {},
   "outputs": [],
   "source": []
  }
 ],
 "metadata": {
  "kernelspec": {
   "display_name": "Python 3 (ipykernel)",
   "language": "python",
   "name": "python3"
  },
  "language_info": {
   "codemirror_mode": {
    "name": "ipython",
    "version": 3
   },
   "file_extension": ".py",
   "mimetype": "text/x-python",
   "name": "python",
   "nbconvert_exporter": "python",
   "pygments_lexer": "ipython3",
   "version": "3.11.2"
  }
 },
 "nbformat": 4,
 "nbformat_minor": 5
}
