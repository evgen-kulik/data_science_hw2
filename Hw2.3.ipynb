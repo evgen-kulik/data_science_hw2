{
 "cells": [
  {
   "cell_type": "markdown",
   "id": "c6243bac-bc89-438b-a8bb-746caf6c8620",
   "metadata": {},
   "source": [
    "# Домашнє завдання № 2"
   ]
  },
  {
   "cell_type": "markdown",
   "id": "eb92a42b-9cd0-46f1-94ca-78f66801a0c8",
   "metadata": {},
   "source": [
    "## Частина третя: Аналіз датасет з Kaggle.com"
   ]
  },
  {
   "cell_type": "code",
   "execution_count": 2,
   "id": "c923eb5e-39ab-4f93-ba9f-c14f2a561dfd",
   "metadata": {},
   "outputs": [],
   "source": [
    "import matplotlib.pyplot as plt\n",
    "import pandas as pd"
   ]
  },
  {
   "cell_type": "markdown",
   "id": "b3b6a083-8d3d-4906-b517-f5b1d170f642",
   "metadata": {},
   "source": [
    "#### 3.1. Прочитайте csv файл (використовуйте функцію read_csv)"
   ]
  },
  {
   "cell_type": "code",
   "execution_count": 3,
   "id": "06a0fc8f-f6d2-4079-93d4-3b619fd75dbd",
   "metadata": {},
   "outputs": [],
   "source": [
    "df = pd.read_csv(\"bestsellers with categories.csv\")"
   ]
  },
  {
   "cell_type": "markdown",
   "id": "cee8e700-b718-45e7-a4e9-93551d916efc",
   "metadata": {},
   "source": [
    "#### 3.2. Виведіть перші п'ять рядків (використовується функція head)"
   ]
  },
  {
   "cell_type": "code",
   "execution_count": 4,
   "id": "60fd0b3b-5101-40b5-87e4-07557c5507af",
   "metadata": {},
   "outputs": [
    {
     "name": "stdout",
     "output_type": "stream",
     "text": [
      "                                                Name  \\\n",
      "0                      10-Day Green Smoothie Cleanse   \n",
      "1                                  11/22/63: A Novel   \n",
      "2            12 Rules for Life: An Antidote to Chaos   \n",
      "3                             1984 (Signet Classics)   \n",
      "4  5,000 Awesome Facts (About Everything!) (Natio...   \n",
      "\n",
      "                     Author  User Rating  Reviews  Price  Year        Genre  \n",
      "0                  JJ Smith          4.7    17350      8  2016  Non Fiction  \n",
      "1              Stephen King          4.6     2052     22  2011      Fiction  \n",
      "2        Jordan B. Peterson          4.7    18979     15  2018  Non Fiction  \n",
      "3             George Orwell          4.7    21424      6  2017      Fiction  \n",
      "4  National Geographic Kids          4.8     7665     12  2019  Non Fiction  \n"
     ]
    }
   ],
   "source": [
    "print(df.head())"
   ]
  },
  {
   "cell_type": "markdown",
   "id": "44c4015b-a639-4d92-8e45-72bdc00d0627",
   "metadata": {},
   "source": [
    "#### 3.3. Виведіть розміри датасету (використовуйте атрибут shape)"
   ]
  },
  {
   "cell_type": "code",
   "execution_count": 5,
   "id": "02ee2a27-c84d-4a3c-95e7-9ba9e12b9286",
   "metadata": {},
   "outputs": [
    {
     "name": "stdout",
     "output_type": "stream",
     "text": [
      "(550, 7)\n"
     ]
    }
   ],
   "source": [
    "print(df.shape)"
   ]
  },
  {
   "cell_type": "markdown",
   "id": "0c432205-f1a4-449a-a78e-9b1ec639966a",
   "metadata": {},
   "source": [
    "#### 3.3. Про скільки книг зберігає дані датасет? Відповідь: 550"
   ]
  },
  {
   "cell_type": "markdown",
   "id": "253e0968-271c-4ec9-9ee9-063dd47d1b1e",
   "metadata": {},
   "source": [
    "#### 3.4. Зміна назв колонок"
   ]
  },
  {
   "cell_type": "code",
   "execution_count": 6,
   "id": "c437ac7f-d015-44ab-add2-7389a0db2499",
   "metadata": {},
   "outputs": [],
   "source": [
    "df.columns = ['name', 'author', 'user_rating', 'reviews', 'price', 'year', 'genre']"
   ]
  },
  {
   "cell_type": "code",
   "execution_count": null,
   "id": "b63a2bc7-db27-4d55-b0b2-50535f7e92c1",
   "metadata": {},
   "outputs": [],
   "source": []
  }
 ],
 "metadata": {
  "kernelspec": {
   "display_name": "Python 3 (ipykernel)",
   "language": "python",
   "name": "python3"
  },
  "language_info": {
   "codemirror_mode": {
    "name": "ipython",
    "version": 3
   },
   "file_extension": ".py",
   "mimetype": "text/x-python",
   "name": "python",
   "nbconvert_exporter": "python",
   "pygments_lexer": "ipython3",
   "version": "3.11.2"
  }
 },
 "nbformat": 4,
 "nbformat_minor": 5
}
